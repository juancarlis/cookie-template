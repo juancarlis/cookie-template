{
 "cells": [
  {
   "cell_type": "code",
   "execution_count": 1,
   "id": "4946863a-2a9e-4739-b164-36be14988d92",
   "metadata": {},
   "outputs": [
    {
     "name": "stdout",
     "output_type": "stream",
     "text": [
      "/home/jicarlis/code/ETLite\n"
     ]
    }
   ],
   "source": [
    "cd ~/code/ETLite/"
   ]
  },
  {
   "cell_type": "code",
   "execution_count": 2,
   "id": "e299d1e9-608d-470b-a763-94f7d74c43e9",
   "metadata": {},
   "outputs": [],
   "source": [
    "import pandas as pd"
   ]
  }
 ],
 "metadata": {
  "kernelspec": {
   "display_name": "Python 3 (ipykernel)",
   "language": "python",
   "name": "python3"
  },
  "language_info": {
   "codemirror_mode": {
    "name": "ipython",
    "version": 3
   },
   "file_extension": ".py",
   "mimetype": "text/x-python",
   "name": "python",
   "nbconvert_exporter": "python",
   "pygments_lexer": "ipython3",
   "version": "3.10.12"
  }
 },
 "nbformat": 4,
 "nbformat_minor": 5
}
